{
 "cells": [
  {
   "cell_type": "code",
   "execution_count": 1,
   "metadata": {},
   "outputs": [],
   "source": [
    "import os\n",
    "import numpy as np\n",
    "import random\n",
    "import pandas as pd\n",
    "import matplotlib.pyplot as plt\n",
    "import matplotlib.patches as patch\n",
    "from scipy.integrate import solve_ivp\n",
    "import scipy.optimize as sc_opt\n",
    "import math\n",
    "from scipy.integrate import quad\n",
    "import time\n",
    "from IPython.core.debugger import set_trace\n",
    "import datetime as dt\n",
    "\n",
    "from numpy import genfromtxt\n",
    "\n",
    "import sys\n",
    "sys.path.append('../../models')\n",
    "from models import firstordermodel, secondordermodel, thirdordermodel\n",
    "\n",
    "sys.path.append('../')\n",
    "from tools import stochasticSimulation, derive_regimes, discrete_ivp_solver, \\\n",
    "                    smooth_dap, sol_ivp_wrapper, sol_ivp_wrapper_discrete,\\\n",
    "                    smooth_regime, cost, sigmoid,\\\n",
    "                    simulate_MPC, mergeSwitchCont,\\\n",
    "                    build_initial_ipopt_object,\\\n",
    "                    consMatrix, f_with_consumption\n",
    "\n",
    "\n",
    "\n",
    "%load_ext autoreload\n",
    "%autoreload 2\n",
    "\n",
    "# PATHS\n",
    "FIGS = '/Users/madsobdrup/Dropbox/Skole/DTU/Studie/MASTER/THESIS/FIGS'\n",
    "\n",
    "# Switching time optimization modules\n",
    "import switching_times_1st as st1\n",
    "import switching_times_1st_rk as st1_rk\n",
    "import switching_times_2nd as st2\n",
    "\n",
    "import lxml\n",
    "\n",
    "k_baseline = 12400.\n",
    "k_MELT = 250.\n",
    "k_IDLE = 9."
   ]
  },
  {
   "cell_type": "code",
   "execution_count": 2,
   "metadata": {},
   "outputs": [],
   "source": [
    "# Define model\n",
    "lambda_MELT = 0.00183*60\n",
    "mu_MELT = 66.92400 \n",
    "lambda_IDLE = 0.00085*60\n",
    "mu_IDLE = 94.89100\n",
    "sigma = 0.28130\n",
    "R = 1.96580\n",
    "pars = np.array([lambda_MELT, mu_MELT, lambda_IDLE, mu_IDLE, sigma, R])\n",
    "m1 = firstordermodel(pars)\n",
    "\n",
    "tf = 60 * 24\n",
    "x0 = np.array(90)\n",
    "\n",
    "\n",
    "# Extract switch solution from C++\n",
    "switches = genfromtxt('../results/optimal_pars.csv', delimiter=',')\n",
    "tau_MELT_all, tau_IDLE_all  = derive_regimes(switches,tf,1)\n",
    "tau_MELT, tau_IDLE = derive_regimes(switches,tf,0)\n",
    "switches = np.concatenate((tau_MELT, tau_IDLE))\n",
    "switches[-1 ] += 0.1 # To avoid duplicate\n",
    "\n",
    "# Draw random switches in the format [tau_melt, tau_idle]\n",
    "#np.random.seed(1234)\n",
    "#n_s = 5\n",
    "#switch = np.sort(np.random.uniform(0,tf,2*n_s))\n",
    "#switch = np.concatenate(derive_regimes(switch,0,0))\n",
    "#switch\n",
    "\n",
    "# Define model\n",
    "mu_IDLE = 957.10401120\n",
    "mu_MELT = 700.74438030\n",
    "omega_IDLE = 0.05220237\n",
    "omega_MELT = 0.30504764\n",
    "xi_IDLE = 0.18367929\n",
    "xi_MELT = 0.50240445 \n",
    "slope = 0.00778941\n",
    "offset = 599.12794983\n",
    "logsigma = np.array([-0.44650699, 2.53627662])\n",
    "logR = -10.86389382\n",
    "\n",
    "pars = np.array([mu_IDLE, mu_MELT, omega_IDLE, omega_MELT, xi_IDLE, xi_MELT, slope, offset, logsigma, logR])\n",
    "m2 = secondordermodel(pars)"
   ]
  },
  {
   "cell_type": "code",
   "execution_count": 3,
   "metadata": {},
   "outputs": [
    {
     "data": {
      "text/plain": [
       "([0.2864390060594673, 0.2907839729437738, 0.4227770209967589], 1.0)"
      ]
     },
     "execution_count": 3,
     "metadata": {},
     "output_type": "execute_result"
    }
   ],
   "source": [
    "regulation = pd.read_csv('../../data/realtimemarket.csv',header=0, index_col=0,skiprows = 0)\n",
    "regulation = regulation.loc[regulation['PriceArea'] == 'DK1']\n",
    "regulation = regulation[{'BalancingPowerPriceDownEUR','BalancingPowerPriceUpEUR'}]\n",
    "regulation.index = pd.to_datetime(regulation.index)\n",
    "regulation = regulation.reindex(index=regulation.index[::-1])\n",
    "\n",
    "spot = pd.read_csv('../../data/elspotprices.csv',header=0, index_col=0,skiprows = 0)\n",
    "spot = spot.loc[spot['PriceArea'] == 'DK1']\n",
    "spot = spot[{'SpotPriceEUR'}]\n",
    "spot.index = pd.to_datetime(spot.index)\n",
    "spot = spot.reindex(index=spot.index[::-1])\n",
    "\n",
    "prices = pd.concat([spot, regulation], axis=1, join='inner')\n",
    "prices.columns = ['spot', 'up', 'down']\n",
    "#prices = prices * 1e-6\n",
    "\n",
    "\n",
    "# Make correct round off\n",
    "num_deci = 2\n",
    "prices_og = prices\n",
    "prices = np.round(np.round(prices_og * 10**num_deci,num_deci) / 10**num_deci,num_deci) #= np.round(prices,3)\n",
    "\n",
    "# Derive markets\n",
    "tol = 1e-2\n",
    "\n",
    "prices['market_spot'] = 0\n",
    "prices['market_down'] = 0\n",
    "prices['market_up'] = 0\n",
    "\n",
    "# When both up and down is less than tol away from the spot price\n",
    "prices.loc[(np.abs(np.round(prices['spot'] - prices['down'],2)) <= tol) & (np.abs(np.round(prices['spot'] - prices['up'],2)) <= tol),'market_spot'] = 1\n",
    "\n",
    "# When both are different, but even the smallest is bigger than 0.1 we have an error. Put it to spot market\n",
    "prices.loc[np.minimum(np.abs(prices['spot'] - prices['up']),np.abs(prices['spot'] - prices['down'])) > 0.1,'market_spot'] = 1\n",
    "\n",
    "\n",
    "prices.loc[(prices['market_spot'] != 1) & (np.abs(np.round(prices['spot'] - prices['down'],2)) > np.abs(np.round(prices['spot'] - prices['up'],2))),'market_down'] = 1\n",
    "prices.loc[(prices['market_spot'] != 1) & (np.abs(np.round(prices['spot'] - prices['down'],2)) <= np.abs(np.round(prices['spot'] - prices['up'],2))),'market_up'] = 1\n",
    "\n",
    "\n",
    "frac_down = np.mean(prices['market_down'])\n",
    "frac_spot = np.mean(prices['market_spot'])\n",
    "frac_up = np.mean(prices['market_up'])\n",
    "\n",
    "[frac_down, frac_spot, frac_up], np.sum([frac_down, frac_spot, frac_up])\n",
    "\n",
    "\n"
   ]
  },
  {
   "cell_type": "code",
   "execution_count": 4,
   "metadata": {},
   "outputs": [],
   "source": [
    "nswitches = 10\n",
    "tf_sim = 60 * 24\n",
    "tf_ph = 60 * 48\n",
    "\n",
    "\n",
    "# ------ Define models -------\n",
    "\n",
    "# \"True\" model\n",
    "# -------------\n",
    "#system_true = m1; x0_true = np.array([90])\n",
    "system_true = m2; x0_true = np.array([2.6659426, 899.8884004])\n",
    "# -------------\n",
    "\n",
    "# Expectation model\n",
    "# -------------\n",
    "system_model = m1; x0_model = np.array([90.])\n",
    "#system_model = m2; x0_model = np.array([2.6659426, 899.8884004])\n",
    "# -------------\n",
    "\n",
    "# Optimization object\n",
    "# -------------\n",
    "tank = st1_rk.plant(); tank_pars = m1.drift_pars\n",
    "#tank = st2.plant(), tank_pars = m1.drift_pars\n",
    "# -------------\n",
    "\n",
    "# Define optimization parameters\n",
    "max_melt = 16. * 60.\n",
    "dt_opt = 0.1\n",
    "n_s = 10\n",
    "t0 = 0.\n",
    "opt_rk = True\n",
    "tank = build_initial_ipopt_object(tank, tank_pars, dt_opt, k_baseline, k_MELT, k_IDLE, t0, tf_ph, max_melt, n_s, opt_rk)\n",
    "\n",
    "#tank.get_p_optimize()"
   ]
  },
  {
   "cell_type": "code",
   "execution_count": 5,
   "metadata": {},
   "outputs": [],
   "source": [
    "# Build initial values - Other methods could be considered\n",
    "idle = tf * np.linspace(0.1,0.9,n_s) # Spread out on the whole interval\n",
    "melt = idle - max_melt/n_s * 0.2 # Assign melt period to a little before idle\n",
    "switch0_dap = np.concatenate((melt,idle)) # put together\n",
    "\n",
    "idle = tf * np.linspace(0.05,0.85,n_s) # Spread out on the whole interval\n",
    "melt = idle - max_melt/n_s * 0.2 # Assign melt period to a little before idle\n",
    "switch0_rk = np.concatenate((melt,idle)) # put together\n",
    "\n",
    "switch0 = np.concatenate((switch0_dap,switch0_rk))\n",
    "switch0\n",
    "\n",
    "tank.set_p_optimize(switch0)"
   ]
  },
  {
   "cell_type": "code",
   "execution_count": 6,
   "metadata": {},
   "outputs": [
    {
     "data": {
      "text/plain": [
       "array([ 124.8,  252.8,  380.8,  508.8,  636.8,  764.8,  892.8, 1020.8,\n",
       "       1148.8, 1276.8,  144. ,  272. ,  400. ,  528. ,  656. ,  784. ,\n",
       "        912. , 1040. , 1168. , 1296. ,   52.8,  180.8,  308.8,  436.8,\n",
       "        564.8,  692.8,  820.8,  948.8, 1076.8, 1204.8,   72. ,  200. ,\n",
       "        328. ,  456. ,  584. ,  712. ,  840. ,  968. , 1096. , 1224. ])"
      ]
     },
     "execution_count": 6,
     "metadata": {},
     "output_type": "execute_result"
    }
   ],
   "source": [
    "switch0"
   ]
  },
  {
   "cell_type": "code",
   "execution_count": 7,
   "metadata": {},
   "outputs": [
    {
     "data": {
      "text/plain": [
       "124.8"
      ]
     },
     "execution_count": 7,
     "metadata": {},
     "output_type": "execute_result"
    }
   ],
   "source": [
    "switch0[0]"
   ]
  },
  {
   "cell_type": "code",
   "execution_count": 8,
   "metadata": {},
   "outputs": [
    {
     "data": {
      "text/plain": [
       "-1.0"
      ]
     },
     "execution_count": 8,
     "metadata": {},
     "output_type": "execute_result"
    }
   ],
   "source": [
    "tank.get_p_dynamic()[10]"
   ]
  },
  {
   "cell_type": "code",
   "execution_count": 9,
   "metadata": {},
   "outputs": [],
   "source": [
    "# Simulation options\n",
    "start_date = '2015-05-09 19:00:00'\n",
    "n_days = 2\n",
    "dt_sim = 0.01\n",
    "seed = 1233\n",
    "save_to_file = 1\n",
    "\n",
    "day = 0\n",
    "idx_offset = np.where(prices.index == start_date)[0][0]\n",
    "start_model = x0_model"
   ]
  },
  {
   "cell_type": "code",
   "execution_count": 10,
   "metadata": {},
   "outputs": [
    {
     "name": "stdout",
     "output_type": "stream",
     "text": [
      "0.09960000000000001\n"
     ]
    }
   ],
   "source": [
    "idx = np.arange(48) + day * 48 + idx_offset\n",
    "future_days = np.array(prices.index[idx])\n",
    "#future_hours = np.array(prices['Hours'][idx])\n",
    "future_price = np.array(prices['spot'][idx]).astype(np.float) * 1/1000000\n",
    "\n",
    "\n",
    "# ---------------------------\n",
    "# Compute optimal switches over 2 days\n",
    "# ---------------------------\n",
    "\n",
    "# -- Set new optimization object\n",
    "\n",
    "# Initial state of the system\n",
    "tank.set_x0(np.append(start_model,0)) \n",
    "\n",
    "# Update prices\n",
    "p_dynamic = tank.get_p_dynamic()\n",
    "for k in range(0, 48):\n",
    "    p_dynamic[k] = future_price[k]\n",
    "tank.set_p_dynamic(p_dynamic)\n",
    "\n",
    "print(tank.get_p_dynamic()[10] * 10000)\n",
    "\n",
    "\n",
    "\n",
    "opt = tank.get_p_optimize()\n",
    "# Solve\n",
    "tank.solve()"
   ]
  },
  {
   "cell_type": "code",
   "execution_count": 11,
   "metadata": {},
   "outputs": [
    {
     "name": "stdout",
     "output_type": "stream",
     "text": [
      "0.09960000000000001\n"
     ]
    }
   ],
   "source": [
    "print(tank.get_p_dynamic()[10] * 10000)"
   ]
  },
  {
   "cell_type": "code",
   "execution_count": 12,
   "metadata": {},
   "outputs": [],
   "source": [
    "tf_ph = 60 * 48"
   ]
  },
  {
   "cell_type": "code",
   "execution_count": 29,
   "metadata": {},
   "outputs": [
    {
     "data": {
      "text/plain": [
       "(79.56152984294285, 11619.870221745034)"
      ]
     },
     "execution_count": 29,
     "metadata": {},
     "output_type": "execute_result"
    }
   ],
   "source": [
    "#x0 = np.array(x0)\n",
    "t0_sub = 0.\n",
    "tf_sub = tf_ph/48.\n",
    "total_time = tf_ph - t0\n",
    "\n",
    "switch_dap = switch0_dap\n",
    "model = system_model\n",
    "q_dap = 100\n",
    "x0_consumption_dap = np.concatenate((x0_model,np.array([0.])))\n",
    "\n",
    "for k in range(15):\n",
    "    x0_consumption_dap[1] = 0.\n",
    "    T = np.linspace(t0_sub,tf_sub,1000)\n",
    "    T_hour, X_dap = discrete_ivp_solver(f_with_consumption,x0_consumption_dap,switch_dap,T,tf_sub,extra_args=(model,q_dap,k_baseline,k_IDLE,k_MELT))\n",
    "    \n",
    "    t0_sub += total_time/48.\n",
    "    tf_sub += total_time/48.\n",
    "    \n",
    "    x0_consumption_dap[0] = X_dap[0][-1]\n",
    "\n",
    "\n",
    "X_dap[0][-1], X_dap[1][-1]"
   ]
  },
  {
   "cell_type": "code",
   "execution_count": 30,
   "metadata": {},
   "outputs": [
    {
     "data": {
      "text/plain": [
       "[<matplotlib.lines.Line2D at 0x15227b3ad0>]"
      ]
     },
     "execution_count": 30,
     "metadata": {},
     "output_type": "execute_result"
    },
    {
     "data": {
      "image/png": "[encoded data removed]",
      "text/plain": [
       "<Figure size 432x288 with 1 Axes>"
      ]
     },
     "metadata": {
      "needs_background": "light"
     },
     "output_type": "display_data"
    }
   ],
   "source": [
    "plt.plot(T_hour, X_dap[0])"
   ]
  },
  {
   "cell_type": "code",
   "execution_count": 15,
   "metadata": {},
   "outputs": [
    {
     "data": {
      "text/plain": [
       "2880.0"
      ]
     },
     "execution_count": 15,
     "metadata": {},
     "output_type": "execute_result"
    }
   ],
   "source": [
    "total_time"
   ]
  },
  {
   "cell_type": "code",
   "execution_count": 16,
   "metadata": {},
   "outputs": [],
   "source": [
    "# 0  9.5225735e+00 0.00e+00 7.73e-04   0.0 0.00e+00    -  0.00e+00 0.00e+00   0\n",
    "#   1  9.5225563e+00 0.00e+00 6.07e-04  -2.8 1.51e-02    -  9.90e-01 1.00e+00f  1\n",
    "#   2  9.5225352e+00 0.00e+00 7.70e-04  -4.8 1.93e-02    -  9.90e-01 1.00e+00f  1\n",
    "#   3  9.5225140e+00 0.00e+00 7.73e-04  -6.8 1.93e-02    -  9.90e-01 1.00e+00f  1\n",
    "#   4  9.5224927e+00 0.00e+00 7.73e-04  -8.8 1.93e-02    -  9.97e-01 1.00e+00f  1\n",
    "#   5  9.5224715e+00 0.00e+00 7.73e-04  -7.5 1.93e-02    -  1.00e+00 1.00e+00f  1"
   ]
  }
 ],
 "metadata": {
  "kernelspec": {
   "display_name": "Python 3",
   "language": "python",
   "name": "python3"
  },
  "language_info": {
   "codemirror_mode": {
    "name": "ipython",
    "version": 3
   },
   "file_extension": ".py",
   "mimetype": "text/x-python",
   "name": "python",
   "nbconvert_exporter": "python",
   "pygments_lexer": "ipython3",
   "version": "3.7.4"
  }
 },
 "nbformat": 4,
 "nbformat_minor": 4
}
